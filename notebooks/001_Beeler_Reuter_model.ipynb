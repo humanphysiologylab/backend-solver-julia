{
 "cells": [
  {
   "cell_type": "code",
   "execution_count": null,
   "metadata": {},
   "outputs": [],
   "source": [
    "using Plots\n",
    "using Pkg\n",
    "using Parameters\n",
    "using DifferentialEquations"
   ]
  },
  {
   "cell_type": "code",
   "execution_count": null,
   "metadata": {},
   "outputs": [],
   "source": [
    "function calculate_alpha_m(V)\n",
    "    alpha_m = -1. * (V + 47.0) / (exp(-0.1 * (V+47.)) - 1)\n",
    "end\n",
    "\n",
    "function calculate_beta_m(V)\n",
    "    beta_m = 40. * exp(-0.056 * (V + 72.))\n",
    "end\n",
    "\n",
    "function calculate_alpha_h(V)\n",
    "    alpha_h = 0.126 * exp(-0.25 * (V + 77.))\n",
    "end\n",
    "\n",
    "function calculate_beta_h(V)\n",
    "    beta_h = 1.7/(1 + exp(-0.082 * (V + 22.5)))\n",
    "end\n",
    "\n",
    "function calculate_alpha_j(V)\n",
    "    alpha_j = 0.055 * exp(-0.25 * (V + 78.)) / (1. + exp(-0.2 * (V + 78.)))\n",
    "end\n",
    "\n",
    "function calculate_beta_j(V)\n",
    "    beta_j = 0.3 / (1. + exp(-0.1 * (V + 32.)))\n",
    "end\n",
    "\n",
    "function calculate_alpha_d(V)\n",
    "    alpha_d = 0.095 * exp(-(V - 5.)/100.) / (1. + exp(-(V - 5.) / 13.89))\n",
    "end\n",
    "\n",
    "function calculate_beta_d(V)\n",
    "    beta_d = 0.07 * exp(-(V + 44.) / 59.) / (1. + exp((V + 44.) / 20.))\n",
    "end\n",
    "\n",
    "function calculate_alpha_f(V)\n",
    "    alpha_f = 0.012 * exp(-(V + 28.) / 125.) / (1. + exp((V + 28.) / 6.67))\n",
    "end\n",
    "\n",
    "function calculate_beta_f(V)\n",
    "    beta_f = 0.0065 * exp(-(V + 30.) / 50.) / ( 1. + exp(-(V + 30.) / 5.))\n",
    "end\n",
    "\n",
    "function calculate_alpha_x1(V)\n",
    "    alpha_x1 = 5e-4 * exp((V + 50.) / 12.1) / (1. + exp((V + 50.) / 17.5))\n",
    "end\n",
    "\n",
    "function calculate_beta_x1(V)\n",
    "    beta_x1 = 0.0013 * exp(-(V + 20.) / 16.67) / (1. + exp(-(V + 20.) / 25.) )\n",
    "end\n",
    "\n",
    "\n"
   ]
  },
  {
   "cell_type": "code",
   "execution_count": null,
   "metadata": {},
   "outputs": [],
   "source": [
    "function calculate_E_s(Cai)\n",
    "    E_s = -82.3 - (13.0287 * log(Cai * 0.001))\n",
    "end\n",
    "\n",
    "function calculate_i_s(V, d, f, E_s, p)\n",
    "    @unpack g_s = p\n",
    "    i_s = g_s * d * f * (V - E_s)\n",
    "end\n",
    "\n",
    "function calculate_i_Na(V, m, h, j, p)\n",
    "    @unpack g_Na, g_Nac, E_Na = p\n",
    "    i_Na = (g_Na * m^3 * h * j + g_Nac) * (V - E_Na)\n",
    "end\n",
    "\n",
    "function calculate_i_x1(V , x1)\n",
    "   i_x1 = x1 * 8e-3 * (exp(0.004 * (V + 77.)) - 1.) / (exp(0.04 * (V + 35.)))\n",
    "end\n",
    "\n",
    "function calculate_i_K1(V)\n",
    "   i_K_1 = 0.0035 * (4. * (exp(0.04 * (V+85.)) - 1) / (exp(0.08 * (V + 53.)) + exp(0.04 * (V + 53.))) +\n",
    "        0.2 * (V + 23.) / (1 - exp(-0.04 * (V + 23.)))) \n",
    "end\n",
    "\n",
    "function calculate_Istim(t, p)\n",
    "    @unpack IstimStart, IstimEnd, IstimPeriod, IstimPulseDuration, IstimAmplitude = p \n",
    "    Istim = (IstimEnd>=t>=IstimStart && \n",
    "    (t - IstimStart) - floor((t - IstimStart)/IstimPeriod) * IstimPeriod <=IstimPulseDuration) ? IstimAmplitude : 0.0\n",
    "end"
   ]
  },
  {
   "cell_type": "code",
   "execution_count": null,
   "metadata": {},
   "outputs": [],
   "source": [
    "function compute_algebraic(u, p, t)\n",
    "\n",
    "    V, m, h, j, Cai, d, f, x1 = u\n",
    "    \n",
    "    alpha_m = calculate_alpha_m(V)\n",
    "    beta_m = calculate_beta_m(V)\n",
    "    \n",
    "    alpha_h = calculate_alpha_h(V)\n",
    "    beta_h = calculate_beta_h(V)\n",
    "    \n",
    "    alpha_j = calculate_alpha_j(V)\n",
    "    beta_j = calculate_beta_j(V)\n",
    "    \n",
    "    alpha_d = calculate_alpha_d(V)\n",
    "    beta_d = calculate_beta_d(V)\n",
    "    \n",
    "    alpha_f = calculate_alpha_f(V)\n",
    "    beta_f = calculate_beta_f(V)\n",
    "    \n",
    "    alpha_x1 = calculate_alpha_x1(V)\n",
    "    beta_x1 = calculate_beta_x1(V)\n",
    "    \n",
    "    E_s = calculate_E_s(Cai)\n",
    "    i_s = calculate_i_s(V, d, f, E_s, p)\n",
    "    \n",
    "    i_Na = calculate_i_Na(V, m, h, j, p)\n",
    "    i_x1= calculate_i_x1(V , x1)\n",
    "    i_K1 = calculate_i_K1(V)\n",
    "    Istim =calculate_Istim(t, p)\n",
    "    \n",
    "    a = (;\n",
    "        alpha_m, beta_m, alpha_h, beta_h, alpha_j, beta_j, alpha_d, beta_d,\n",
    "        alpha_f, beta_f, alpha_x1, beta_x1, E_s, i_s, i_Na, i_x1, i_K1, Istim)\n",
    "\n",
    "end"
   ]
  },
  {
   "cell_type": "code",
   "execution_count": null,
   "metadata": {},
   "outputs": [],
   "source": [
    "function calculate_d_gate(gate, alpha, beta)\n",
    "    d_gate = alpha * (1. - gate) - beta * gate\n",
    "end\n",
    "function calculate_d_Cai(Cai, i_s)\n",
    "    d_Cai = -0.01 * i_s / 1. + 0.07 * (0.0001 - Cai)\n",
    "end\n",
    "function calculate_d_V(Istim, i_Na, i_s, i_x1, i_K1, p)\n",
    "    @unpack C = p\n",
    "    d_V = (Istim - (i_Na+i_s+i_x1+i_K1))/C\n",
    "end"
   ]
  },
  {
   "cell_type": "code",
   "execution_count": null,
   "metadata": {},
   "outputs": [],
   "source": [
    "function compute_rates!(du, u, p, t)\n",
    "\n",
    "    V, m, h, j, Cai, d, f, x1 = u\n",
    "    a = compute_algebraic(u, p, t)\n",
    "    @unpack alpha_m, beta_m, alpha_h, beta_h, alpha_j, beta_j, alpha_d, beta_d,\n",
    "    alpha_f, beta_f, alpha_x1, beta_x1, E_s, i_s, i_Na, i_x1, i_K1, Istim = a\n",
    "\n",
    "    du[1] = calculate_d_V(Istim, i_Na, i_s, i_x1, i_K1, p)  # V  \n",
    "    du[2] = calculate_d_gate(m, alpha_m, beta_m)            # m\n",
    "    du[3] = calculate_d_gate(h, alpha_h, beta_h)            # h\n",
    "    du[4] = calculate_d_gate(j, alpha_j, beta_j)            # j\n",
    "    du[5] = calculate_d_Cai(Cai, i_s)                       # Cai\n",
    "    du[6] = calculate_d_gate(d, alpha_d, beta_d)            # d\n",
    "    du[7] = calculate_d_gate(f, alpha_f, beta_f)            # f\n",
    "    du[8] = calculate_d_gate(x1, alpha_x1, beta_x1)         # x1\n",
    "    nothing\n",
    "end"
   ]
  },
  {
   "cell_type": "code",
   "execution_count": null,
   "metadata": {},
   "outputs": [],
   "source": [
    "s₀ = Dict(\n",
    "    \"V\" => -84.624,\n",
    "    \"m\" => 0.011,\n",
    "    \"h\" => 0.988,\n",
    "    \"j\" => 0.975,\n",
    "    \"Cai\" => 1e-4,\n",
    "    \"d\" => 0.003,\n",
    "    \"f\" => 0.994,\n",
    "    \"x1\" => 0.0001,\n",
    ");"
   ]
  },
  {
   "cell_type": "code",
   "execution_count": null,
   "metadata": {},
   "outputs": [],
   "source": [
    "s0 =[-64.624,\n",
    "    0.011,\n",
    "    0.988,\n",
    "    0.975,\n",
    "    1e-4,\n",
    "    0.003,\n",
    "    0.994,\n",
    "    0.0001,\n",
    "    ]"
   ]
  },
  {
   "cell_type": "code",
   "execution_count": null,
   "metadata": {},
   "outputs": [],
   "source": [
    "p = Dict(\n",
    "    \"C\" => 0.01,\n",
    "    \"g_Na\" => 4e-2,\n",
    "    \"E_Na\" => 50,\n",
    "    \"g_Nac\" => 3e-5,\n",
    "    \"g_s\" => 9e-4,\n",
    "    \"IstimStart\" => 10,\n",
    "    \"IstimEnd\" => 50000,\n",
    "    \"IstimAmplitude\" => 0.5,\n",
    "    \"IstimPeriod\" => 1000,\n",
    "    \"IstimPulseDuration\" => 1)"
   ]
  },
  {
   "cell_type": "code",
   "execution_count": null,
   "metadata": {},
   "outputs": [],
   "source": [
    "tspan = (0., 1500.)\n",
    "u₀ = deepcopy(s0)"
   ]
  },
  {
   "cell_type": "code",
   "execution_count": null,
   "metadata": {},
   "outputs": [],
   "source": [
    "rhs = ODEFunction(compute_rates!, syms=[:V, :m, :h, :j, :Cai, :d, :f, :x1])\n",
    "prob = ODEProblem(rhs, u₀, tspan, p)"
   ]
  },
  {
   "cell_type": "code",
   "execution_count": null,
   "metadata": {},
   "outputs": [],
   "source": [
    "sol = solve(prob);"
   ]
  },
  {
   "cell_type": "code",
   "execution_count": null,
   "metadata": {},
   "outputs": [],
   "source": [
    "plot(sol, vars=[:V])"
   ]
  }
 ],
 "metadata": {
  "kernelspec": {
   "display_name": "Julia 4 Threads 1.6.2",
   "language": "julia",
   "name": "julia-4-threads-1.6"
  },
  "language_info": {
   "file_extension": ".jl",
   "mimetype": "application/julia",
   "name": "julia",
   "version": "1.6.2"
  }
 },
 "nbformat": 4,
 "nbformat_minor": 4
}

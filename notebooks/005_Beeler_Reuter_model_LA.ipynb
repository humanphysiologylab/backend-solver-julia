{
 "cells": [
  {
   "cell_type": "code",
   "execution_count": null,
   "metadata": {},
   "outputs": [],
   "source": [
    "using Plots\n",
    "using Parameters\n",
    "using DifferentialEquations"
   ]
  },
  {
   "cell_type": "code",
   "execution_count": null,
   "metadata": {},
   "outputs": [],
   "source": [
    "using LabelledArrays"
   ]
  },
  {
   "cell_type": "markdown",
   "metadata": {},
   "source": [
    "# Beeler-Reuter model\n",
    "\n",
    "[Beeler Reuter model on CellML](https://models.physiomeproject.org/e/23a/beeler_reuter_1977.cellml/view)\n",
    "\n",
    "## Cell scheme\n",
    "![Image of Beeler-Reuter model](https://models.physiomeproject.org/w/miller/beeler_reuter_1977_uncertexample/@@rawfile/b5412f13ad89db3cecd00b6c68c1d6e3308e2110/beeler_reuter_1977.png)\n",
    "\n",
    "## Diagram of the current flows across the cell membrane\n",
    "\n",
    "![Image of Beeler-Reuter scheme](https://models.physiomeproject.org/w/miller/beeler_reuter_1977_uncertexample/@@rawfile/b5412f13ad89db3cecd00b6c68c1d6e3308e2110/cellml_rendering.gif)"
   ]
  },
  {
   "cell_type": "markdown",
   "metadata": {},
   "source": [
    "# Gating variables"
   ]
  },
  {
   "cell_type": "code",
   "execution_count": null,
   "metadata": {},
   "outputs": [],
   "source": [
    "function calculate_alpha_m(V)\n",
    "    alpha_m = -1. * (V + 47.0) / (exp(-0.1 * (V+47.)) - 1)\n",
    "end\n",
    "\n",
    "function calculate_beta_m(V)\n",
    "    beta_m = 40. * exp(-0.056 * (V + 72.))\n",
    "end\n",
    "\n",
    "function calculate_alpha_h(V)\n",
    "    alpha_h = 0.126 * exp(-0.25 * (V + 77.))\n",
    "end\n",
    "\n",
    "function calculate_beta_h(V)\n",
    "    beta_h = 1.7/(1 + exp(-0.082 * (V + 22.5)))\n",
    "end\n",
    "\n",
    "function calculate_alpha_j(V)\n",
    "    alpha_j = 0.055 * exp(-0.25 * (V + 78.)) / (1. + exp(-0.2 * (V + 78.)))\n",
    "end\n",
    "\n",
    "function calculate_beta_j(V)\n",
    "    beta_j = 0.3 / (1. + exp(-0.1 * (V + 32.)))\n",
    "end\n",
    "\n",
    "function calculate_alpha_d(V)\n",
    "    alpha_d = 0.095 * exp(-(V - 5.)/100.) / (1. + exp(-(V - 5.) / 13.89))\n",
    "end\n",
    "\n",
    "function calculate_beta_d(V)\n",
    "    beta_d = 0.07 * exp(-(V + 44.) / 59.) / (1. + exp((V + 44.) / 20.))\n",
    "end\n",
    "\n",
    "function calculate_alpha_f(V)\n",
    "    alpha_f = 0.012 * exp(-(V + 28.) / 125.) / (1. + exp((V + 28.) / 6.67))\n",
    "end\n",
    "\n",
    "function calculate_beta_f(V)\n",
    "    beta_f = 0.0065 * exp(-(V + 30.) / 50.) / ( 1. + exp(-(V + 30.) / 5.))\n",
    "end\n",
    "\n",
    "function calculate_alpha_x1(V)\n",
    "    alpha_x1 = 5e-4 * exp((V + 50.) / 12.1) / (1. + exp((V + 50.) / 17.5))\n",
    "end\n",
    "\n",
    "function calculate_beta_x1(V)\n",
    "    beta_x1 = 0.0013 * exp(-(V + 20.) / 16.67) / (1. + exp(-(V + 20.) / 25.) )\n",
    "end"
   ]
  },
  {
   "cell_type": "markdown",
   "metadata": {},
   "source": [
    "# Algebraic ~ observables"
   ]
  },
  {
   "cell_type": "code",
   "execution_count": null,
   "metadata": {},
   "outputs": [],
   "source": [
    "function calculate_E_s!(u, p, t, a)\n",
    "    @unpack Cai = u\n",
    "    E_s = -82.3 - (13.0287 * log(Cai * 0.001))\n",
    "    @pack! a = E_s\n",
    "end\n",
    "\n",
    "function calculate_i_s!(u, p, t, a)\n",
    "    @unpack V, d, f = u\n",
    "    @unpack g_s = p\n",
    "    @unpack E_s = a\n",
    "    i_s = g_s * d * f * (V - E_s)\n",
    "    @pack! a = i_s\n",
    "end\n",
    "\n",
    "function calculate_i_Na!(u, p, t, a)\n",
    "    @unpack V, m, h, j = u\n",
    "    @unpack g_Na, g_Nac, E_Na = p\n",
    "    i_Na = (g_Na * m^3 * h * j + g_Nac) * (V - E_Na)\n",
    "    @pack! a = i_Na\n",
    "end\n",
    "\n",
    "function calculate_i_x1!(u, p, t, a)\n",
    "    @unpack V, x1 = u\n",
    "    i_x1 = x1 * 8e-3 * (exp(0.004 * (V + 77.)) - 1.) / (exp(0.04 * (V + 35.)))\n",
    "    @pack! a = i_x1\n",
    "end\n",
    "\n",
    "function calculate_i_K1!(u, p, t, a)\n",
    "    @unpack V = u\n",
    "    @unpack E_K = p\n",
    "    \n",
    "    i_K1 = 0.0035 * (4. * (exp(0.04 * (V+E_K)) - 1) / (exp(0.08 * (V + 53.)) + exp(0.04 * (V + 53.)))\n",
    "                      + 0.2 * (V + 23.) / (1 - exp(-0.04 * (V + 23.)))) \n",
    "    @pack! a = i_K1\n",
    "end\n",
    "\n",
    "function calculate_Istim!(u, p, t, a)\n",
    "    @unpack IstimStart, IstimEnd, IstimPeriod, IstimPulseDuration, IstimAmplitude = p \n",
    "    condition = (IstimStart <= t <= IstimEnd && (t - IstimStart) - floor((t - IstimStart) / IstimPeriod) * IstimPeriod <= IstimPulseDuration)\n",
    "    Istim = condition ? IstimAmplitude : 0.0\n",
    "    @pack! a = Istim\n",
    "end"
   ]
  },
  {
   "cell_type": "code",
   "execution_count": null,
   "metadata": {},
   "outputs": [],
   "source": [
    "function calculate_algebraic!(u, p, t, a)\n",
    "\n",
    "    @unpack V = u\n",
    "    \n",
    "    a.alpha_m = calculate_alpha_m(V)\n",
    "    a.beta_m = calculate_beta_m(V)\n",
    "    \n",
    "    a.alpha_h = calculate_alpha_h(V)\n",
    "    a.beta_h = calculate_beta_h(V)\n",
    "    \n",
    "    a.alpha_j = calculate_alpha_j(V)\n",
    "    a.beta_j = calculate_beta_j(V)\n",
    "    \n",
    "    a.alpha_d = calculate_alpha_d(V)\n",
    "    a.beta_d = calculate_beta_d(V)\n",
    "    \n",
    "    a.alpha_f = calculate_alpha_f(V)\n",
    "    a.beta_f = calculate_beta_f(V)\n",
    "    \n",
    "    a.alpha_x1 = calculate_alpha_x1(V)\n",
    "    a.beta_x1 = calculate_beta_x1(V)\n",
    "    \n",
    "    calculate_E_s!(u, p, t, a)\n",
    "    calculate_i_s!(u, p, t, a)\n",
    "    calculate_i_Na!(u, p, t, a)\n",
    "    calculate_i_x1!(u, p, t, a)\n",
    "    calculate_i_K1!(u, p, t, a)\n",
    "    calculate_Istim!(u, p, t, a)\n",
    "    \n",
    "end"
   ]
  },
  {
   "cell_type": "code",
   "execution_count": null,
   "metadata": {},
   "outputs": [],
   "source": [
    "function calculate_d_gate(gate, alpha, beta, scaler = 1)\n",
    "    d_gate = scaler * (alpha * (1. - gate) - beta * gate)\n",
    "end\n",
    "\n",
    "\n",
    "function calculate_d_Cai(du, u, p, t, a)\n",
    "    @unpack Cai = u\n",
    "    @unpack i_s = a\n",
    "    d_Cai = -0.01 * i_s + 0.07 * (0.0001 - Cai)\n",
    "end\n",
    "\n",
    "\n",
    "function calculate_d_V(du, u, p, t, a)\n",
    "    @unpack C = p\n",
    "    @unpack Istim, i_Na, i_s, i_x1, i_K1 = a\n",
    "    d_V = (Istim - (i_Na + i_s + i_x1 + i_K1)) / C\n",
    "end"
   ]
  },
  {
   "cell_type": "code",
   "execution_count": null,
   "metadata": {},
   "outputs": [],
   "source": [
    "function calculate_rates!(du, u, p, t, a)\n",
    "\n",
    "    @unpack V, m, h, j, Cai, d, f, x1 = u\n",
    "    calculate_algebraic!(u, p, t, a)\n",
    "    @unpack m_scaler = p\n",
    "    du.m = calculate_d_gate(m, a.alpha_m, a.beta_m, m_scaler)\n",
    "    du.h = calculate_d_gate(h, a.alpha_h, a.beta_h)\n",
    "    du.j = calculate_d_gate(j, a.alpha_j, a.beta_j)\n",
    "    du.d = calculate_d_gate(d, a.alpha_d, a.beta_d)\n",
    "    du.f = calculate_d_gate(f, a.alpha_f, a.beta_f)\n",
    "    du.x1 = calculate_d_gate(x1, a.alpha_x1, a.beta_x1)\n",
    "\n",
    "    du.V = calculate_d_V(du, u, p, t, a)\n",
    "    du.Cai = calculate_d_Cai(du, u, p, t, a)\n",
    "\n",
    "end"
   ]
  },
  {
   "cell_type": "markdown",
   "metadata": {},
   "source": [
    "# Define problem"
   ]
  },
  {
   "cell_type": "code",
   "execution_count": null,
   "metadata": {},
   "outputs": [],
   "source": [
    "u₀ = LVector((V = -85.0,\n",
    "              m = 0.011,\n",
    "              h = 0.998,\n",
    "              j = 0.975,\n",
    "              Cai = 1e-4,\n",
    "              d = 0.003,\n",
    "              f = 0.994,\n",
    "              x1 = 0.0001))"
   ]
  },
  {
   "cell_type": "code",
   "execution_count": null,
   "metadata": {},
   "outputs": [],
   "source": [
    "p_initial = LVector((\n",
    "    C = 0.01,\n",
    "    g_Na = 4e-2,\n",
    "    E_Na = 50,\n",
    "    E_K = 85,\n",
    "    g_Nac = 3e-5,\n",
    "    g_s = 9e-4,\n",
    "    m_scaler = 1.,\n",
    "    IstimStart = 10,\n",
    "    IstimEnd = 50000,\n",
    "    IstimAmplitude = 0.5,\n",
    "    IstimPeriod = 1000,\n",
    "    IstimPulseDuration = 1))"
   ]
  },
  {
   "cell_type": "code",
   "execution_count": null,
   "metadata": {},
   "outputs": [],
   "source": [
    "tspan = (0., 1500.)"
   ]
  },
  {
   "cell_type": "code",
   "execution_count": null,
   "metadata": {},
   "outputs": [],
   "source": [
    "a_syms = (:alpha_m, :beta_m,\n",
    "          :alpha_h, :beta_h,\n",
    "          :alpha_j, :beta_j,\n",
    "          :alpha_d, :beta_d,\n",
    "          :alpha_f, :beta_f,\n",
    "          :alpha_x1, :beta_x1,\n",
    "          :E_s, :i_s, :i_Na, :i_x1, :i_K1, :Istim)\n",
    "\n",
    "a = @LVector Real a_syms\n",
    "calculate_algebraic!(u₀, p_initial, 0., a)  # let's check\n",
    "a"
   ]
  },
  {
   "cell_type": "code",
   "execution_count": null,
   "metadata": {},
   "outputs": [],
   "source": [
    "du = similar(u₀)\n",
    "u = similar(u₀)\n",
    "calculate_rates!(du, u, p_initial, 0., a)  # let's check"
   ]
  },
  {
   "cell_type": "code",
   "execution_count": null,
   "metadata": {},
   "outputs": [],
   "source": [
    "rhs = ODEFunction((du, u, p, t) -> calculate_rates!(du, u, p, t, a))\n",
    "prob = ODEProblem(rhs, u₀, tspan, p_initial)"
   ]
  },
  {
   "cell_type": "markdown",
   "metadata": {},
   "source": [
    "# Solve"
   ]
  },
  {
   "cell_type": "code",
   "execution_count": null,
   "metadata": {},
   "outputs": [],
   "source": [
    "sol = solve(prob, Rodas5(), dt=1e-3, dtmax=0.1);"
   ]
  },
  {
   "cell_type": "code",
   "execution_count": null,
   "metadata": {},
   "outputs": [],
   "source": [
    "plot(sol, vars=[:V], ylabel = \"V, mV\")\n"
   ]
  },
  {
   "cell_type": "markdown",
   "metadata": {},
   "source": [
    "# Restore algebraics"
   ]
  },
  {
   "cell_type": "code",
   "execution_count": null,
   "metadata": {},
   "outputs": [],
   "source": [
    "algebraics = Vector{typeof(a)}()\n",
    "\n",
    "for (t, u) in zip(sol.t, sol.u)\n",
    "    calculate_algebraic!(u, p_initial, t, a)\n",
    "    append!(algebraics, [deepcopy(a)])\n",
    "end"
   ]
  },
  {
   "cell_type": "code",
   "execution_count": null,
   "metadata": {},
   "outputs": [],
   "source": [
    "a_matrix = hcat(algebraics...)\n",
    "algebraics = (;zip(a_syms, eachrow(a_matrix))...);"
   ]
  },
  {
   "cell_type": "code",
   "execution_count": null,
   "metadata": {},
   "outputs": [],
   "source": [
    "plot(algebraics.i_Na, label = \"i_Na\")"
   ]
  },
  {
   "cell_type": "markdown",
   "metadata": {},
   "source": [
    "# Hyperkalemia"
   ]
  },
  {
   "cell_type": "code",
   "execution_count": null,
   "metadata": {},
   "outputs": [],
   "source": [
    "function calculate_i_K1(V, V_rev)\n",
    "    i_K1 = 0.0035 * (4. * (exp(0.04 * (V+V_rev)) - 1) / (exp(0.08 * (V + 53.)) + exp(0.04 * (V + 53.)))\n",
    "                      + 0.2 * (V + 23.) / (1 - exp(-0.04 * (V + 23.)))) \n",
    "end\n"
   ]
  },
  {
   "cell_type": "code",
   "execution_count": null,
   "metadata": {},
   "outputs": [],
   "source": [
    "p = deepcopy(p_initial)\n",
    "v_rev = 85:-3:65\n",
    "v_range = -100:-30\n",
    "E_K_critical = 75\n",
    "tspan = (0., 3000.)"
   ]
  },
  {
   "cell_type": "code",
   "execution_count": null,
   "metadata": {},
   "outputs": [],
   "source": [
    "hline([0.0], linecolor = :black, label = false)\n",
    "for v_ in v_rev\n",
    "    i_K1 = []\n",
    "    for v in v_range\n",
    "        push!(i_K1, calculate_i_K1(v, v_))\n",
    "    end\n",
    "    condition = (v_ < E_K_critical)\n",
    "    plot!(v_range, i_K1, label = \"v_rev = \" * string(v_) * \" mV\", linecolor = (condition ? :blue : :red))\n",
    "end\n",
    "plot!(xlims = (-100, -20), ylims = (-0.1,0.1), xlabel = \"V, mV\", ylabel = \"I_K1 \")"
   ]
  },
  {
   "cell_type": "code",
   "execution_count": null,
   "metadata": {},
   "outputs": [],
   "source": [
    "plot()\n",
    "for v_ in v_rev\n",
    "    p[:E_K] = v_\n",
    "    prob = ODEProblem(rhs, u₀, tspan, p)\n",
    "    sol = solve(prob, Rodas5(), dt=1e-3, dtmax=0.1);\n",
    "    condition = (v_ < E_K_critical)\n",
    "    plot!(sol, vars=[:V], linecolor = (condition ? :blue : :red), label = \"v_rev = \" * string(v_) * \" mV\")\n",
    "end\n",
    "plot!(ylabel = \"V, mV\")"
   ]
  },
  {
   "cell_type": "markdown",
   "metadata": {},
   "source": [
    "# Activation characteristics"
   ]
  },
  {
   "cell_type": "code",
   "execution_count": null,
   "metadata": {},
   "outputs": [],
   "source": [
    "tau_m = []\n",
    "tau_h = []\n",
    "tau_j = []\n",
    "m = []\n",
    "h = []\n",
    "j = []\n",
    "v_range = -100:1.1:-10\n",
    "for v in v_range\n",
    "    push!(tau_m, 1/(calculate_alpha_m(v) + calculate_beta_m(v)))\n",
    "    push!(tau_h, 1/(calculate_alpha_h(v) + calculate_beta_h(v)))\n",
    "    push!(tau_j, 1/(calculate_alpha_j(v) + calculate_beta_j(v)))\n",
    "    push!(m, calculate_alpha_m(v)/(calculate_alpha_m(v) + calculate_beta_m(v)))\n",
    "    push!(h, calculate_alpha_h(v)/(calculate_alpha_h(v) + calculate_beta_h(v)))\n",
    "    push!(j, calculate_alpha_j(v)/(calculate_alpha_j(v) + calculate_beta_j(v)))\n",
    "\n",
    "\n",
    "end"
   ]
  },
  {
   "cell_type": "code",
   "execution_count": null,
   "metadata": {},
   "outputs": [],
   "source": [
    "plot(v_range, [tau_m , tau_h], yaxis= :log, label = [\"tau_m\" \"tau_h\"], lw = 2, ylabel = \"t, ms\", xlabel = \"V, mV\")"
   ]
  },
  {
   "cell_type": "code",
   "execution_count": null,
   "metadata": {},
   "outputs": [],
   "source": [
    "plot(v_range, [m, h], label = [\"m\" \"h\"], lw = 2, xlabel = \"V, mV\")\n"
   ]
  },
  {
   "cell_type": "code",
   "execution_count": null,
   "metadata": {},
   "outputs": [],
   "source": [
    "tspan = (0., 600.)\n",
    "p = deepcopy(p_initial)\n",
    "coeff_critical = maximum(tau_m)/maximum(tau_h)\n",
    "coeff_critical_log = log10(coeff_critical) "
   ]
  },
  {
   "cell_type": "code",
   "execution_count": null,
   "metadata": {},
   "outputs": [],
   "source": [
    "coeff = -2.:0.5:1. \n",
    "sol_arrays = []\n",
    "for c in coeff\n",
    "    p[:m_scaler] = 10^c\n",
    "    prob = ODEProblem(rhs, u₀, tspan, p)\n",
    "    sol = solve(prob, Rodas5(), dt=1e-3, dtmax=0.1)\n",
    "    push!(sol_arrays, sol)\n",
    "end\n"
   ]
  },
  {
   "cell_type": "code",
   "execution_count": null,
   "metadata": {},
   "outputs": [],
   "source": [
    "plot()\n",
    "for k in 1:length(sol_arrays)\n",
    "    condition = (coeff[k] < 0.)\n",
    "    plot!(sol_arrays[k], vars=[:V], lw = 2,label = \"τₘ/τₕ ~ 10^\" *string(round(- coeff[k] + coeff_critical_log, digits=1)) ,  linecolor = (condition ? :blue : :red),)\n",
    "end\n",
    "plot!(ylabel = \"V, mV\")"
   ]
  },
  {
   "cell_type": "code",
   "execution_count": null,
   "metadata": {},
   "outputs": [],
   "source": [
    "I_Na_max = []\n",
    "for sol in sol_arrays\n",
    "    algebraics = Vector{typeof(a)}()\n",
    "    for (t, u) in zip(sol.t, sol.u)\n",
    "        calculate_algebraic!(u, p_initial, t, a)\n",
    "        append!(algebraics, [deepcopy(a)])\n",
    "    end\n",
    "    a_matrix = hcat(algebraics...)\n",
    "    algebraics = (;zip(a_syms, eachrow(a_matrix))...);\n",
    "    push!(I_Na_max, minimum(algebraics.i_Na))\n",
    "end\n"
   ]
  },
  {
   "cell_type": "code",
   "execution_count": null,
   "metadata": {},
   "outputs": [],
   "source": [
    "plot(10 .^(- coeff .+ coeff_critical_log), I_Na_max, m = 5,  xaxis= :log, label = false, xlabel = \"τₘ/τₕ\", ylabel = \"Amplitude of I Na, nA\", lw = 2)"
   ]
  },
  {
   "cell_type": "code",
   "execution_count": null,
   "metadata": {},
   "outputs": [],
   "source": []
  },
  {
   "cell_type": "code",
   "execution_count": null,
   "metadata": {},
   "outputs": [],
   "source": []
  }
 ],
 "metadata": {
  "kernelspec": {
   "display_name": "Julia 1.6.2",
   "language": "julia",
   "name": "julia-1.6"
  },
  "language_info": {
   "file_extension": ".jl",
   "mimetype": "application/julia",
   "name": "julia",
   "version": "1.6.2"
  }
 },
 "nbformat": 4,
 "nbformat_minor": 4
}
